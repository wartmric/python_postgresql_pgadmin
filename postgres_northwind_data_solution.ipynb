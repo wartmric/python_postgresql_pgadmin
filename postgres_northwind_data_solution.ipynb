{
 "cells": [
  {
   "cell_type": "markdown",
   "id": "61847f62",
   "metadata": {},
   "source": [
    "# Importing and Querying Data with PostgreSQL (Northwind Database)\n",
    "\n",
    "Describtion of the Northwind Database: https://en.wikiversity.org/wiki/Database_Examples/Northwind \n",
    "\n",
    "Example SQL-Queries based on the Northwind Database: https://www.w3schools.com/sql/default.asp\n",
    "\n",
    "SQL Tutorials: https://www.youtube.com/watch?v=zpnHsWOy0RY&list=PLP9IO4UYNF0UQkBXlTMSw0CYsxv-GDkkI"
   ]
  },
  {
   "cell_type": "markdown",
   "id": "a5bf2790",
   "metadata": {},
   "source": [
    "## Frequently used SQL clauses (for in-depth learning)"
   ]
  },
  {
   "cell_type": "markdown",
   "id": "901761f3",
   "metadata": {},
   "source": [
    "<div>\n",
    "  <style>\n",
    "    .sql-keyword {\n",
    "      color: blue;\n",
    "    }\n",
    "  </style>\n",
    "  <span class=\"sql-keyword\">SELECT</span><br>\n",
    "  <span class=\"sql-keyword\">SELECT DISTINCT</span><br>\n",
    "  <span class=\"sql-keyword\">FROM</span><br>\n",
    "  <span class=\"sql-keyword\">WHERE</span><br>\n",
    "  <span class=\"sql-keyword\">AND</span><br>\n",
    "  <span class=\"sql-keyword\">LIKE</span><br>\n",
    "  <span class=\"sql-keyword\">GROUP BY</span><br>\n",
    "  <span class=\"sql-keyword\">HAVING</span><br>\n",
    "  <span class=\"sql-keyword\">ORDER BY</span><br>\n",
    "  <span class=\"sql-keyword\">FULL JOIN</span><br>\n",
    "  <span class=\"sql-keyword\">INNER JOIN</span><br>\n",
    "  <span class=\"sql-keyword\">LEFT JOIN</span><br>\n",
    "  <span class=\"sql-keyword\">RIGHT JOIN</span><br>\n",
    "  <span class=\"sql-keyword\">ON</span><br>\n",
    "  <span class=\"sql-keyword\">LIMIT</span><br>\n",
    "  <span class=\"sql-keyword\">AS</span><br>\n",
    "  <span class=\"sql-keyword\">AVG</span><br>\n",
    "  <span class=\"sql-keyword\">COUNT</span><br>\n",
    "  <span class=\"sql-keyword\">MIN</span><br>\n",
    "  <span class=\"sql-keyword\">MAX</span><br>\n",
    "  <span class=\"sql-keyword\">SUM</span><br>\n",
    "  <span class=\"sql-keyword\">BETWEEN</span><br>\n",
    "  <span class=\"sql-keyword\">IN</span><br>\n",
    "  <span class=\"sql-keyword\">IS NULL</span><br>\n",
    "  <span class=\"sql-keyword\">IS NOT NULL</span><br> \n",
    "  <span class=\"sql-keyword\">ROUND</span><br> \n",
    "  <span class=\"sql-keyword\">CAST</span><br>\n",
    "  <span class=\"sql-keyword\">NUMERIC</span><br>\n",
    "  <span class=\"sql-keyword\">INTEGER</span>  \n",
    "</div>"
   ]
  },
  {
   "cell_type": "markdown",
   "id": "9b8df3dd",
   "metadata": {},
   "source": [
    "## Libraries and Settings"
   ]
  },
  {
   "cell_type": "code",
   "execution_count": 1,
   "id": "b027d889",
   "metadata": {},
   "outputs": [
    {
     "name": "stdout",
     "output_type": "stream",
     "text": [
      "/\n"
     ]
    }
   ],
   "source": [
    "# Libraries\n",
    "import os\n",
    "import pandas as pd\n",
    "from sqlalchemy import create_engine, text\n",
    "import matplotlib.pyplot as plt\n",
    "\n",
    "# Settings\n",
    "import warnings\n",
    "warnings.filterwarnings(\"ignore\")\n",
    "\n",
    "# Current working directory\n",
    "print(os.getcwd())"
   ]
  },
  {
   "cell_type": "markdown",
   "id": "53f4b234",
   "metadata": {},
   "source": [
    "## Read data from .csv files to separate data frames "
   ]
  },
  {
   "cell_type": "code",
   "execution_count": 4,
   "id": "ef32ffa2-1859-48af-a78c-0f1b5748fc98",
   "metadata": {},
   "outputs": [
    {
     "name": "stdout",
     "output_type": "stream",
     "text": [
      "Dimensions of DataFrames:\n",
      "Customers: (91, 7)\n",
      "Categories: (8, 3)\n",
      "Employees: (10, 6)\n",
      "OrderDetails: (518, 4)\n",
      "Orders: (196, 5)\n",
      "Products: (77, 6)\n",
      "Shippers: (3, 3)\n",
      "Suppliers: (29, 8)\n",
      "Dimensions of DataFrames:\n",
      "Customers: (91, 7)\n",
      "Categories: (8, 3)\n",
      "Employees: (10, 6)\n",
      "OrderDetails: (518, 4)\n",
      "Orders: (196, 5)\n",
      "Products: (77, 6)\n",
      "Shippers: (3, 3)\n",
      "Suppliers: (29, 8)\n"
     ]
    }
   ],
   "source": [
    "# Define path to data\n",
    "path = 'workspace/Data/'\n",
    "\n",
    "# Read data from .csv files\n",
    "df_customers = pd.read_csv(f'{path}Customers.csv', sep=',')\n",
    "df_categories = pd.read_csv(f'{path}Categories.csv', sep=',')\n",
    "df_employees = pd.read_csv(f'{path}Employees.csv', sep=',')\n",
    "df_order_details = pd.read_csv(f'{path}OrderDetails.csv', sep=',')\n",
    "df_orders = pd.read_csv(f'{path}Orders.csv', sep=',')\n",
    "df_products = pd.read_csv(f'{path}Products.csv', sep=',')\n",
    "df_shippers = pd.read_csv(f'{path}Shippers.csv', sep=',')\n",
    "df_suppliers = pd.read_csv(f'{path}Suppliers.csv', sep=',')\n",
    "\n",
    "# Change column names to lowercase\n",
    "df_customers.columns = df_customers.columns.str.lower()\n",
    "df_categories.columns = df_categories.columns.str.lower()\n",
    "df_employees.columns = df_employees.columns.str.lower()\n",
    "df_order_details.columns = df_order_details.columns.str.lower()\n",
    "df_orders.columns = df_orders.columns.str.lower()\n",
    "df_products.columns = df_products.columns.str.lower()\n",
    "df_shippers.columns = df_shippers.columns.str.lower()\n",
    "df_suppliers.columns = df_suppliers.columns.str.lower()\n",
    "\n",
    "# Check dimensions of DataFrames\n",
    "print(\"Dimensions of DataFrames:\")\n",
    "print(f\"Customers: {df_customers.shape}\")\n",
    "print(f\"Categories: {df_categories.shape}\")\n",
    "print(f\"Employees: {df_employees.shape}\")\n",
    "print(f\"OrderDetails: {df_order_details.shape}\")\n",
    "print(f\"Orders: {df_orders.shape}\")\n",
    "print(f\"Products: {df_products.shape}\")\n",
    "print(f\"Shippers: {df_shippers.shape}\")\n",
    "print(f\"Suppliers: {df_suppliers.shape}\")\n",
    "\n",
    "#Read .xslx\n",
    "df_customers = pd.read_excel(f'{path}Northwind_Database.xlsx', sheet_name='Customers')\n",
    "df_categories = pd.read_excel(f'{path}Northwind_Database.xlsx', sheet_name='Categories')\n",
    "df_employees = pd.read_excel(f'{path}Northwind_Database.xlsx', sheet_name='Employees')\n",
    "df_order_details = pd.read_excel(f'{path}Northwind_Database.xlsx', sheet_name='OrderDetails')\n",
    "df_orders = pd.read_excel(f'{path}Northwind_Database.xlsx', sheet_name='Orders')\n",
    "df_products = pd.read_excel(f'{path}Northwind_Database.xlsx', sheet_name='Products')\n",
    "df_shippers = pd.read_excel(f'{path}Northwind_Database.xlsx', sheet_name='Shippers')\n",
    "df_suppliers = pd.read_excel(f'{path}Northwind_Database.xlsx', sheet_name='Suppliers')\n",
    "\n",
    "\n",
    "\n",
    "# Check dimensions of DataFrames\n",
    "print(\"Dimensions of DataFrames:\")\n",
    "print(f\"Customers: {df_customers.shape}\")\n",
    "print(f\"Categories: {df_categories.shape}\")\n",
    "print(f\"Employees: {df_employees.shape}\")\n",
    "print(f\"OrderDetails: {df_order_details.shape}\")\n",
    "print(f\"Orders: {df_orders.shape}\")\n",
    "print(f\"Products: {df_products.shape}\")\n",
    "print(f\"Shippers: {df_shippers.shape}\")\n",
    "print(f\"Suppliers: {df_suppliers.shape}\")\n"
   ]
  },
  {
   "cell_type": "markdown",
   "id": "66164662",
   "metadata": {},
   "source": [
    "## Create database connection"
   ]
  },
  {
   "cell_type": "code",
   "execution_count": 3,
   "id": "cfd07b2d-1b23-4c93-b3f9-ccc3dcc73c31",
   "metadata": {},
   "outputs": [
    {
     "name": "stdout",
     "output_type": "stream",
     "text": [
      "('northwind',)\n"
     ]
    }
   ],
   "source": [
    "# Set up database connection\n",
    "user = \"pgadmin\"\n",
    "password = \"geheim\"\n",
    "host = \"localhost\"\n",
    "port = \"5432\"\n",
    "database = \"northwind\"\n",
    "\n",
    "# Create Connection URL\n",
    "db_connection_url = \"postgresql://\" + user + \":\" + password +\\\n",
    "                    \"@\" + host + \":\" + port + \"/\" + database\n",
    "\n",
    "# Create SQLAlchemy Engine\n",
    "engine = create_engine(db_connection_url)\n",
    "\n",
    "# Test database connection\n",
    "with engine.connect() as connection:\n",
    "    result = connection.execute(text('SELECT current_database()'))\n",
    "    print(result.fetchone())\n",
    "\n",
    "# Dispose the engine\n",
    "engine.dispose()"
   ]
  },
  {
   "cell_type": "markdown",
   "id": "4dbe76ca",
   "metadata": {},
   "source": [
    "## Write data frames to database tables"
   ]
  },
  {
   "cell_type": "code",
   "execution_count": 4,
   "id": "ba3aec4c",
   "metadata": {},
   "outputs": [],
   "source": [
    "# Create SQLAlchemy Engine\n",
    "engine = create_engine(db_connection_url)\n",
    "\n",
    "# Drop tables if it exist\n",
    "with engine.connect() as connection:\n",
    "    connection.execute(text(\"DROP TABLE IF EXISTS public.categories CASCADE;\"))\n",
    "    connection.execute(text(\"DROP TABLE IF EXISTS public.customers CASCADE;\"))\n",
    "    connection.execute(text(\"DROP TABLE IF EXISTS public.employees CASCADE;\"))\n",
    "    connection.execute(text(\"DROP TABLE IF EXISTS public.orderdetails CASCADE;\"))\n",
    "    connection.execute(text(\"DROP TABLE IF EXISTS public.orders CASCADE;\"))\n",
    "    connection.execute(text(\"DROP TABLE IF EXISTS public.products CASCADE;\"))\n",
    "    connection.execute(text(\"DROP TABLE IF EXISTS public.shippers CASCADE;\"))\n",
    "    connection.execute(text(\"DROP TABLE IF EXISTS public.suppliers CASCADE;\"))\n",
    "    connection.commit()\n",
    "\n",
    "# Write DataFrames to database\n",
    "df_categories.to_sql('categories', engine)\n",
    "df_customers.to_sql('customers', engine)\n",
    "df_employees.to_sql('employees', engine)\n",
    "df_order_details.to_sql('orderdetails', engine)\n",
    "df_orders.to_sql('orders', engine)\n",
    "df_products.to_sql('products', engine)\n",
    "df_shippers.to_sql('shippers', engine)\n",
    "df_suppliers.to_sql('suppliers', engine)\n",
    "\n",
    "# Dispose the engine\n",
    "engine.dispose()"
   ]
  },
  {
   "cell_type": "markdown",
   "id": "5c01d582",
   "metadata": {},
   "source": [
    "## List tables in the database"
   ]
  },
  {
   "cell_type": "code",
   "execution_count": 5,
   "id": "288c472a",
   "metadata": {},
   "outputs": [
    {
     "name": "stdout",
     "output_type": "stream",
     "text": [
      "categories\n",
      "customers\n",
      "employees\n",
      "orderdetails\n",
      "orders\n",
      "products\n",
      "shippers\n",
      "suppliers\n"
     ]
    }
   ],
   "source": [
    "# Create SQLAlchemy Engine\n",
    "engine = create_engine(db_connection_url)\n",
    "\n",
    "# Open a connection\n",
    "with engine.connect() as connection:\n",
    "\n",
    "    # Execute the query\n",
    "    result = connection.execute(text(\"\"\"SELECT table_name\n",
    "                                        FROM information_schema.tables\n",
    "                                        WHERE table_schema = 'public';\"\"\"))\n",
    "    \n",
    "    # Fetch and print the results\n",
    "    for row in result:\n",
    "        print(row[0])\n",
    "\n",
    "# Dispose the engine\n",
    "engine.dispose()"
   ]
  },
  {
   "cell_type": "markdown",
   "id": "2b80dc61",
   "metadata": {},
   "source": [
    "## Create a SQL query to retrieve product information from a database."
   ]
  },
  {
   "cell_type": "code",
   "execution_count": 6,
   "id": "077a187d-05be-4c30-a367-a4e1a19d4466",
   "metadata": {},
   "outputs": [
    {
     "data": {
      "text/html": [
       "<div>\n",
       "<style scoped>\n",
       "    .dataframe tbody tr th:only-of-type {\n",
       "        vertical-align: middle;\n",
       "    }\n",
       "\n",
       "    .dataframe tbody tr th {\n",
       "        vertical-align: top;\n",
       "    }\n",
       "\n",
       "    .dataframe thead th {\n",
       "        text-align: right;\n",
       "    }\n",
       "</style>\n",
       "<table border=\"1\" class=\"dataframe\">\n",
       "  <thead>\n",
       "    <tr style=\"text-align: right;\">\n",
       "      <th></th>\n",
       "      <th>productid</th>\n",
       "      <th>productname</th>\n",
       "      <th>categoryname</th>\n",
       "      <th>price</th>\n",
       "    </tr>\n",
       "  </thead>\n",
       "  <tbody>\n",
       "    <tr>\n",
       "      <th>0</th>\n",
       "      <td>1</td>\n",
       "      <td>Chais</td>\n",
       "      <td>Beverages</td>\n",
       "      <td>18.00</td>\n",
       "    </tr>\n",
       "    <tr>\n",
       "      <th>1</th>\n",
       "      <td>2</td>\n",
       "      <td>Chang</td>\n",
       "      <td>Beverages</td>\n",
       "      <td>19.00</td>\n",
       "    </tr>\n",
       "    <tr>\n",
       "      <th>2</th>\n",
       "      <td>3</td>\n",
       "      <td>Aniseed Syrup</td>\n",
       "      <td>Condiments</td>\n",
       "      <td>10.00</td>\n",
       "    </tr>\n",
       "    <tr>\n",
       "      <th>3</th>\n",
       "      <td>4</td>\n",
       "      <td>Chef Anton's Cajun Seasoning</td>\n",
       "      <td>Condiments</td>\n",
       "      <td>22.00</td>\n",
       "    </tr>\n",
       "    <tr>\n",
       "      <th>4</th>\n",
       "      <td>5</td>\n",
       "      <td>Chef Anton's Gumbo Mix</td>\n",
       "      <td>Condiments</td>\n",
       "      <td>21.35</td>\n",
       "    </tr>\n",
       "    <tr>\n",
       "      <th>...</th>\n",
       "      <td>...</td>\n",
       "      <td>...</td>\n",
       "      <td>...</td>\n",
       "      <td>...</td>\n",
       "    </tr>\n",
       "    <tr>\n",
       "      <th>72</th>\n",
       "      <td>73</td>\n",
       "      <td>Röd Kaviar</td>\n",
       "      <td>Seafood</td>\n",
       "      <td>15.00</td>\n",
       "    </tr>\n",
       "    <tr>\n",
       "      <th>73</th>\n",
       "      <td>74</td>\n",
       "      <td>Longlife Tofu</td>\n",
       "      <td>Produce</td>\n",
       "      <td>10.00</td>\n",
       "    </tr>\n",
       "    <tr>\n",
       "      <th>74</th>\n",
       "      <td>75</td>\n",
       "      <td>Rhönbräu Klosterbier</td>\n",
       "      <td>Beverages</td>\n",
       "      <td>7.75</td>\n",
       "    </tr>\n",
       "    <tr>\n",
       "      <th>75</th>\n",
       "      <td>76</td>\n",
       "      <td>Lakkalikööri</td>\n",
       "      <td>Beverages</td>\n",
       "      <td>18.00</td>\n",
       "    </tr>\n",
       "    <tr>\n",
       "      <th>76</th>\n",
       "      <td>77</td>\n",
       "      <td>Original Frankfurter grüne Soße</td>\n",
       "      <td>Condiments</td>\n",
       "      <td>13.00</td>\n",
       "    </tr>\n",
       "  </tbody>\n",
       "</table>\n",
       "<p>77 rows × 4 columns</p>\n",
       "</div>"
      ],
      "text/plain": [
       "    productid                      productname categoryname  price\n",
       "0           1                            Chais    Beverages  18.00\n",
       "1           2                            Chang    Beverages  19.00\n",
       "2           3                    Aniseed Syrup   Condiments  10.00\n",
       "3           4     Chef Anton's Cajun Seasoning   Condiments  22.00\n",
       "4           5           Chef Anton's Gumbo Mix   Condiments  21.35\n",
       "..        ...                              ...          ...    ...\n",
       "72         73                       Röd Kaviar      Seafood  15.00\n",
       "73         74                    Longlife Tofu      Produce  10.00\n",
       "74         75             Rhönbräu Klosterbier    Beverages   7.75\n",
       "75         76                     Lakkalikööri    Beverages  18.00\n",
       "76         77  Original Frankfurter grüne Soße   Condiments  13.00\n",
       "\n",
       "[77 rows x 4 columns]"
      ]
     },
     "execution_count": 6,
     "metadata": {},
     "output_type": "execute_result"
    }
   ],
   "source": [
    "# Create SQLAlchemy Engine\n",
    "engine = create_engine(db_connection_url)\n",
    "\n",
    "# Write data to table\n",
    "df_sub = pd.read_sql_query('''SELECT \n",
    "                                Products.ProductID, \n",
    "                                Products.ProductName, \n",
    "                                Categories.CategoryName,\n",
    "                                Products.Price\n",
    "                             FROM Products\n",
    "                             INNER JOIN Categories ON Products.CategoryID = Categories.CategoryID\n",
    "                             ORDER BY Products.ProductID;''', \n",
    "                          con=engine)\n",
    "\n",
    "# Dispose the engine\n",
    "engine.dispose()\n",
    "\n",
    "# Show the data\n",
    "df_sub"
   ]
  },
  {
   "cell_type": "markdown",
   "id": "5a828fd6-ebe9-431d-b0ab-0ee97e96cf53",
   "metadata": {},
   "source": [
    "## Plot product prices"
   ]
  },
  {
   "cell_type": "code",
   "execution_count": 7,
   "id": "e57b9583-89b5-4b58-b8a1-1349f21d086a",
   "metadata": {},
   "outputs": [
    {
     "data": {
      "image/png": "[encoded data removed]",
      "text/plain": [
       "<Figure size 700x400 with 1 Axes>"
      ]
     },
     "metadata": {},
     "output_type": "display_data"
    }
   ],
   "source": [
    "# Plot Histogram\n",
    "fig = plt.figure( figsize=(7,4))\n",
    "plt.xticks(fontsize=14, rotation=0)\n",
    "plt.yticks(fontsize=14, rotation=0)\n",
    "n, bins, patches = plt.hist(x=df_sub['price'], \n",
    "                            bins=20, \n",
    "                            color='#C53115',\n",
    "                            alpha=1.00, \n",
    "                            rwidth=0.95\n",
    "                   )\n",
    "plt.grid(True)\n",
    "plt.ticklabel_format(style='plain')\n",
    "plt.grid(axis='y', alpha=0.75)\n",
    "\n",
    "# Set labels\n",
    "plt.xlabel('Price (USD)', fontsize=10, labelpad=10)\n",
    "plt.ylabel('Frequency', fontsize=10, labelpad=10)\n",
    "plt.title('Histogram of product prices', fontsize=12, pad=10)\n",
    "\n",
    "# Set fontsize of tick labels\n",
    "plt.xticks(fontsize = 10)\n",
    "plt.yticks(fontsize = 10)\n",
    "\n",
    "plt.show()"
   ]
  },
  {
   "attachments": {},
   "cell_type": "markdown",
   "id": "ff525b1e",
   "metadata": {},
   "source": [
    "### Jupyter notebook --footer info-- (please always provide this at the end of each notebook)"
   ]
  },
  {
   "cell_type": "code",
   "execution_count": 8,
   "id": "e6cae5b2",
   "metadata": {},
   "outputs": [
    {
     "name": "stdout",
     "output_type": "stream",
     "text": [
      "-----------------------------------\n",
      "POSIX\n",
      "Linux | 6.5.0-1025-azure\n",
      "Datetime: 2024-09-17 11:45:00\n",
      "Python Version: 3.11.10\n",
      "-----------------------------------\n"
     ]
    }
   ],
   "source": [
    "import os\n",
    "import platform\n",
    "import socket\n",
    "from platform import python_version\n",
    "from datetime import datetime\n",
    "\n",
    "print('-----------------------------------')\n",
    "print(os.name.upper())\n",
    "print(platform.system(), '|', platform.release())\n",
    "print('Datetime:', datetime.now().strftime(\"%Y-%m-%d %H:%M:%S\"))\n",
    "print('Python Version:', python_version())\n",
    "print('-----------------------------------')"
   ]
  }
 ],
 "metadata": {
  "kernelspec": {
   "display_name": "Python 3",
   "language": "python",
   "name": "python3"
  },
  "language_info": {
   "codemirror_mode": {
    "name": "ipython",
    "version": 3
   },
   "file_extension": ".py",
   "mimetype": "text/x-python",
   "name": "python",
   "nbconvert_exporter": "python",
   "pygments_lexer": "ipython3",
   "version": "3.11.10"
  }
 },
 "nbformat": 4,
 "nbformat_minor": 5
}
